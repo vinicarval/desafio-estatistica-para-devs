{
 "cells": [
  {
   "cell_type": "code",
   "execution_count": 20,
   "id": "409fd2d0",
   "metadata": {},
   "outputs": [],
   "source": [
    "import pandas as pd\n",
    "import matplotlib.pyplot as plt"
   ]
  },
  {
   "cell_type": "markdown",
   "id": "b9503ce7",
   "metadata": {},
   "source": [
    "## Create Dataframe from dict"
   ]
  },
  {
   "cell_type": "code",
   "execution_count": 21,
   "id": "5a6c512e",
   "metadata": {},
   "outputs": [
    {
     "data": {
      "text/plain": [
       "{'data_ref': ['2023-01-01',\n",
       "  '2020-02-01',\n",
       "  '2021-03-01',\n",
       "  '2022-04-01',\n",
       "  '2023-05-01',\n",
       "  '2023-06-01',\n",
       "  '2020-07-01',\n",
       "  '2021-08-01',\n",
       "  '2022-09-01',\n",
       "  '2023-10-01',\n",
       "  '2022-11-01',\n",
       "  '2023-12-01'],\n",
       " 'valor': [400000,\n",
       "  890000,\n",
       "  760000,\n",
       "  430000,\n",
       "  920000,\n",
       "  340000,\n",
       "  800000,\n",
       "  500000,\n",
       "  200000,\n",
       "  900000,\n",
       "  570000,\n",
       "  995000]}"
      ]
     },
     "execution_count": 21,
     "metadata": {},
     "output_type": "execute_result"
    }
   ],
   "source": [
    "# Dicionário de faturamento\n",
    "dict_faturamento = {\n",
    "    'data_ref': [\n",
    "        '2023-01-01', \n",
    "        '2020-02-01', \n",
    "        '2021-03-01', \n",
    "        '2022-04-01', \n",
    "        '2023-05-01',\n",
    "        '2023-06-01', \n",
    "        '2020-07-01', \n",
    "        '2021-08-01', \n",
    "        '2022-09-01', \n",
    "        '2023-10-01',\n",
    "        '2022-11-01', \n",
    "        '2023-12-01',\n",
    "        ],\n",
    "    'valor': [\n",
    "        400000, \n",
    "        890000, \n",
    "        760000, \n",
    "        430000, \n",
    "        920000,\n",
    "        340000, \n",
    "        800000, \n",
    "        500000, \n",
    "        200000, \n",
    "        900000,\n",
    "        570000, \n",
    "        995000,\n",
    "        ]\n",
    "}\n",
    "\n",
    "dict_faturamento"
   ]
  },
  {
   "cell_type": "code",
   "execution_count": 22,
   "id": "ba044c8a",
   "metadata": {},
   "outputs": [
    {
     "data": {
      "text/html": [
       "<div>\n",
       "<style scoped>\n",
       "    .dataframe tbody tr th:only-of-type {\n",
       "        vertical-align: middle;\n",
       "    }\n",
       "\n",
       "    .dataframe tbody tr th {\n",
       "        vertical-align: top;\n",
       "    }\n",
       "\n",
       "    .dataframe thead th {\n",
       "        text-align: right;\n",
       "    }\n",
       "</style>\n",
       "<table border=\"1\" class=\"dataframe\">\n",
       "  <thead>\n",
       "    <tr style=\"text-align: right;\">\n",
       "      <th></th>\n",
       "      <th>data_ref</th>\n",
       "      <th>valor</th>\n",
       "    </tr>\n",
       "  </thead>\n",
       "  <tbody>\n",
       "    <tr>\n",
       "      <th>0</th>\n",
       "      <td>2023-01-01</td>\n",
       "      <td>400000</td>\n",
       "    </tr>\n",
       "    <tr>\n",
       "      <th>1</th>\n",
       "      <td>2020-02-01</td>\n",
       "      <td>890000</td>\n",
       "    </tr>\n",
       "    <tr>\n",
       "      <th>2</th>\n",
       "      <td>2021-03-01</td>\n",
       "      <td>760000</td>\n",
       "    </tr>\n",
       "    <tr>\n",
       "      <th>3</th>\n",
       "      <td>2022-04-01</td>\n",
       "      <td>430000</td>\n",
       "    </tr>\n",
       "    <tr>\n",
       "      <th>4</th>\n",
       "      <td>2023-05-01</td>\n",
       "      <td>920000</td>\n",
       "    </tr>\n",
       "    <tr>\n",
       "      <th>5</th>\n",
       "      <td>2023-06-01</td>\n",
       "      <td>340000</td>\n",
       "    </tr>\n",
       "    <tr>\n",
       "      <th>6</th>\n",
       "      <td>2020-07-01</td>\n",
       "      <td>800000</td>\n",
       "    </tr>\n",
       "    <tr>\n",
       "      <th>7</th>\n",
       "      <td>2021-08-01</td>\n",
       "      <td>500000</td>\n",
       "    </tr>\n",
       "    <tr>\n",
       "      <th>8</th>\n",
       "      <td>2022-09-01</td>\n",
       "      <td>200000</td>\n",
       "    </tr>\n",
       "    <tr>\n",
       "      <th>9</th>\n",
       "      <td>2023-10-01</td>\n",
       "      <td>900000</td>\n",
       "    </tr>\n",
       "    <tr>\n",
       "      <th>10</th>\n",
       "      <td>2022-11-01</td>\n",
       "      <td>570000</td>\n",
       "    </tr>\n",
       "    <tr>\n",
       "      <th>11</th>\n",
       "      <td>2023-12-01</td>\n",
       "      <td>995000</td>\n",
       "    </tr>\n",
       "  </tbody>\n",
       "</table>\n",
       "</div>"
      ],
      "text/plain": [
       "      data_ref   valor\n",
       "0   2023-01-01  400000\n",
       "1   2020-02-01  890000\n",
       "2   2021-03-01  760000\n",
       "3   2022-04-01  430000\n",
       "4   2023-05-01  920000\n",
       "5   2023-06-01  340000\n",
       "6   2020-07-01  800000\n",
       "7   2021-08-01  500000\n",
       "8   2022-09-01  200000\n",
       "9   2023-10-01  900000\n",
       "10  2022-11-01  570000\n",
       "11  2023-12-01  995000"
      ]
     },
     "execution_count": 22,
     "metadata": {},
     "output_type": "execute_result"
    }
   ],
   "source": [
    "df_faturamento = pd.DataFrame.from_dict(dict_faturamento)\n",
    "df_faturamento"
   ]
  },
  {
   "cell_type": "code",
   "execution_count": 23,
   "id": "9e456b83",
   "metadata": {},
   "outputs": [
    {
     "name": "stdout",
     "output_type": "stream",
     "text": [
      "<class 'pandas.core.frame.DataFrame'>\n",
      "RangeIndex: 12 entries, 0 to 11\n",
      "Data columns (total 2 columns):\n",
      " #   Column    Non-Null Count  Dtype \n",
      "---  ------    --------------  ----- \n",
      " 0   data_ref  12 non-null     object\n",
      " 1   valor     12 non-null     int64 \n",
      "dtypes: int64(1), object(1)\n",
      "memory usage: 324.0+ bytes\n"
     ]
    }
   ],
   "source": [
    "df_faturamento.info()"
   ]
  },
  {
   "cell_type": "code",
   "execution_count": 24,
   "id": "8c7bdbc5",
   "metadata": {},
   "outputs": [
    {
     "name": "stdout",
     "output_type": "stream",
     "text": [
      "<class 'pandas.core.frame.DataFrame'>\n",
      "RangeIndex: 12 entries, 0 to 11\n",
      "Data columns (total 3 columns):\n",
      " #   Column    Non-Null Count  Dtype         \n",
      "---  ------    --------------  -----         \n",
      " 0   data_ref  12 non-null     datetime64[ns]\n",
      " 1   valor     12 non-null     int64         \n",
      " 2   mes       12 non-null     int32         \n",
      "dtypes: datetime64[ns](1), int32(1), int64(1)\n",
      "memory usage: 372.0 bytes\n"
     ]
    }
   ],
   "source": [
    "df_faturamento.data_ref = pd.to_datetime(df_faturamento.data_ref)\n",
    "df_faturamento['mes'] = pd.DatetimeIndex(df_faturamento['data_ref']).month\n",
    "df_faturamento.info()"
   ]
  },
  {
   "cell_type": "markdown",
   "id": "5e2ad02f",
   "metadata": {},
   "source": [
    "## Get Information"
   ]
  },
  {
   "cell_type": "code",
   "execution_count": 25,
   "id": "0f81f418",
   "metadata": {},
   "outputs": [
    {
     "data": {
      "text/plain": [
       "np.float64(642083.3333333334)"
      ]
     },
     "execution_count": 25,
     "metadata": {},
     "output_type": "execute_result"
    }
   ],
   "source": [
    "# média\n",
    "df_faturamento.valor.mean()"
   ]
  },
  {
   "cell_type": "code",
   "execution_count": 27,
   "id": "f7c82a31",
   "metadata": {},
   "outputs": [
    {
     "data": {
      "text/plain": [
       "<Axes: xlabel='mes'>"
      ]
     },
     "execution_count": 27,
     "metadata": {},
     "output_type": "execute_result"
    },
    {
     "data": {
      "image/png": "[encoded data removed]",
      "text/plain": [
       "<Figure size 640x480 with 1 Axes>"
      ]
     },
     "metadata": {},
     "output_type": "display_data"
    }
   ],
   "source": [
    "df_faturamento.plot.bar(x='mes', y='valor')"
   ]
  },
  {
   "cell_type": "code",
   "execution_count": 28,
   "id": "0b461bea",
   "metadata": {},
   "outputs": [
    {
     "data": {
      "text/plain": [
       "<Axes: xlabel='mes'>"
      ]
     },
     "execution_count": 28,
     "metadata": {},
     "output_type": "execute_result"
    },
    {
     "data": {
      "image/png": "[encoded data removed]",
      "text/plain": [
       "<Figure size 640x480 with 1 Axes>"
      ]
     },
     "metadata": {},
     "output_type": "display_data"
    }
   ],
   "source": [
    "df_faturamento.plot.line(x='mes', y='valor')"
   ]
  }
 ],
 "metadata": {
  "kernelspec": {
   "display_name": "desafio-estatistica-para-devs-8J5IN4eh",
   "language": "python",
   "name": "python3"
  },
  "language_info": {
   "codemirror_mode": {
    "name": "ipython",
    "version": 3
   },
   "file_extension": ".py",
   "mimetype": "text/x-python",
   "name": "python",
   "nbconvert_exporter": "python",
   "pygments_lexer": "ipython3",
   "version": "3.13.1"
  }
 },
 "nbformat": 4,
 "nbformat_minor": 5
}
